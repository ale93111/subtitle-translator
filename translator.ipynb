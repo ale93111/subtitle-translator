{
 "cells": [
  {
   "cell_type": "code",
   "execution_count": null,
   "metadata": {},
   "outputs": [],
   "source": [
    "import os\n",
    "import numpy as np\n",
    "import matplotlib.pyplot as plt\n",
    "from PIL import Image as imagepil\n",
    "import time\n",
    "\n",
    "import pygame\n",
    "\n",
    "os.environ['SDL_VIDEO_WINDOW_POS'] = '600,900'"
   ]
  },
  {
   "cell_type": "code",
   "execution_count": null,
   "metadata": {},
   "outputs": [],
   "source": [
    "import deepl\n",
    "\n",
    "auth_key = \"\"  # Replace with your key\n",
    "translator = deepl.Translator(auth_key)\n",
    "\n",
    "def translate_note(sentence, translator):\n",
    "    if sentence:\n",
    "        result = translator.translate_text(sentence, target_lang=\"EN-US\")\n",
    "        return result.text  # \"Bonjour, le monde !\"\n",
    "    else:\n",
    "        return None"
   ]
  },
  {
   "cell_type": "code",
   "execution_count": null,
   "metadata": {},
   "outputs": [],
   "source": [
    "import easyocr\n",
    "\n",
    "reader = easyocr.Reader(['nl','en'])"
   ]
  },
  {
   "cell_type": "code",
   "execution_count": null,
   "metadata": {},
   "outputs": [],
   "source": [
    "from mss import mss\n",
    "bounding_box = {'top': 650, 'left': 900, 'width': 1000, 'height': 200}\n",
    "\n",
    "sct = mss()"
   ]
  },
  {
   "cell_type": "code",
   "execution_count": null,
   "metadata": {},
   "outputs": [],
   "source": [
    "pygame.init()\n",
    "\n",
    "SCREEN_WIDTH, SCREEN_HEIGHT = 1100, 200\n",
    "screen = pygame.display.set_mode((SCREEN_WIDTH, SCREEN_HEIGHT))\n",
    "\n",
    "font = pygame.font.Font(None, 36)  # None means default font\n",
    "\n",
    "BLACK = (0, 0, 0)\n",
    "WHITE = (255, 255, 255)\n",
    "\n",
    "counter = 0\n",
    "\n",
    "old_dutch_text = []\n",
    "english_text = ''\n",
    "\n",
    "while True:#counter < 10:\n",
    "    screen.fill(WHITE)\n",
    "            \n",
    "    sct_img = sct.grab(bounding_box)\n",
    "    image = np.array(sct_img)[:,:,[2,1,0]]\n",
    "    \n",
    "    dutch_text = reader.readtext(image,detail=0)\n",
    "    \n",
    "    if old_dutch_text != dutch_text:\n",
    "        english_text = [translate_note(line, translator) for line in dutch_text]\n",
    "        english_text = ' '.join(english_text)\n",
    "        old_dutch_text = dutch_text\n",
    "        \n",
    "        text = font.render(english_text, True, BLACK)\n",
    "        text_rect = text.get_rect()\n",
    "        text_rect.center = (SCREEN_WIDTH // 2, SCREEN_HEIGHT // 2)\n",
    "        screen.blit(text, text_rect)\n",
    "        pygame.display.flip()\n",
    "        \n",
    "    counter +=1\n",
    "    time.sleep(1)\n",
    "    \n",
    "pygame.quit()"
   ]
  }
 ],
 "metadata": {
  "kernelspec": {
   "display_name": "Python 3",
   "language": "python",
   "name": "python3"
  },
  "language_info": {
   "codemirror_mode": {
    "name": "ipython",
    "version": 3
   },
   "file_extension": ".py",
   "mimetype": "text/x-python",
   "name": "python",
   "nbconvert_exporter": "python",
   "pygments_lexer": "ipython3",
   "version": "3.8.10"
  }
 },
 "nbformat": 4,
 "nbformat_minor": 4
}
